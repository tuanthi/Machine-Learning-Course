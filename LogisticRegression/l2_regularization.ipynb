{
 "cells": [
  {
   "cell_type": "code",
   "execution_count": 1,
   "metadata": {},
   "outputs": [],
   "source": [
    "import numpy as np"
   ]
  },
  {
   "cell_type": "code",
   "execution_count": 8,
   "metadata": {},
   "outputs": [
    {
     "name": "stdout",
     "output_type": "stream",
     "text": [
      "25.248345435602747\n",
      "0.37441500486936735\n",
      "0.35185041621192953\n",
      "0.36124637440017815\n",
      "0.3906470943437491\n",
      "0.42791256339340045\n",
      "0.463910827941192\n",
      "0.4942588120045846\n",
      "0.5179950574191069\n",
      "0.535719455366023\n",
      "weights: [-0.77941514  2.48448711  2.56224266]\n"
     ]
    }
   ],
   "source": [
    "N = 100\n",
    "D = 2\n",
    "\n",
    "X = np.random.randn(N,D)\n",
    "X[:50, :] = X[:50, :] - 2*np.ones((50,D))\n",
    "X[50:, :] = X[50:, :] + 2*np.ones((50,D))\n",
    "\n",
    "T = np.array([0]*50 + [1]*50)\n",
    "\n",
    "ones = np.array([[1]*N]).T\n",
    "Xb = np.concatenate((ones, X), axis=1)\n",
    "\n",
    "w = np.random.randn(D + 1)\n",
    "z = Xb.dot(w)\n",
    "\n",
    "def sigmoid(z):\n",
    "    return 1/(1 + np.exp(-z))\n",
    "\n",
    "Y = sigmoid(z)\n",
    "\n",
    "def cross_entropy(T, Y):\n",
    "    E = 0\n",
    "    for i in range(N):\n",
    "        if T[i] == 1:\n",
    "            E -= np.log(Y[i])\n",
    "        else:\n",
    "            E -= np.log(1 - Y[i])\n",
    "    return E\n",
    "\n",
    "learning_rate = 0.1\n",
    "for i in range(100):\n",
    "    if i%10 == 0:\n",
    "        print(cross_entropy(T, Y))\n",
    "        \n",
    "    w += learning_rate * (Xb.T.dot(T - Y) - 0.1*w)\n",
    "    Y = sigmoid(Xb.dot(w))\n",
    "    \n",
    "print('weights:', w)"
   ]
  },
  {
   "cell_type": "code",
   "execution_count": null,
   "metadata": {},
   "outputs": [],
   "source": []
  }
 ],
 "metadata": {
  "kernelspec": {
   "display_name": "Python 3",
   "language": "python",
   "name": "python3"
  },
  "language_info": {
   "codemirror_mode": {
    "name": "ipython",
    "version": 3
   },
   "file_extension": ".py",
   "mimetype": "text/x-python",
   "name": "python",
   "nbconvert_exporter": "python",
   "pygments_lexer": "ipython3",
   "version": "3.5.2"
  }
 },
 "nbformat": 4,
 "nbformat_minor": 2
}
