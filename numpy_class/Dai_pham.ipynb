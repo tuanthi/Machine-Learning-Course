{
 "cells": [
  {
   "cell_type": "code",
   "execution_count": 1,
   "metadata": {},
   "outputs": [
    {
     "name": "stdout",
     "output_type": "stream",
     "text": [
      "[0.39361702 0.32978723 0.27659574]\n",
      "[9.47676296e-07 9.93413571e-09 9.97163746e-09]\n"
     ]
    },
    {
     "data": {
      "text/plain": [
       "<Figure size 640x480 with 1 Axes>"
      ]
     },
     "metadata": {},
     "output_type": "display_data"
    }
   ],
   "source": [
    "# Ex1\n",
    "import numpy as np\n",
    "import matplotlib.pyplot as plt\n",
    "\n",
    "A = np.array([[0.3,0.6,0.1],[0.5,0.2,0.3],[0.4,0.1,0.5]])\n",
    "v = np.array([1/3,1/3,1/3])\n",
    "v1 = []\n",
    "v_v1 = []\n",
    "\n",
    "for i in range(0,25):\n",
    "    v1 = v.dot(A)\n",
    "    v_v1 +=  [np.linalg.norm(v-v1)]\n",
    "    v = v1\n",
    "print (v1)\n",
    "\n",
    "v = np.array([1/3,1/3,1/3])\n",
    "v2 = np.dot(A**25,v)\n",
    "print (v2)\n",
    "\n",
    "a = np.arange(25)\n",
    "plt.plot(a,v_v1)\n",
    "plt.show()\n"
   ]
  },
  {
   "cell_type": "code",
   "execution_count": 2,
   "metadata": {},
   "outputs": [
    {
     "data": {
      "image/png": "[encoded data removed]",
      "text/plain": [
       "<Figure size 432x288 with 1 Axes>"
      ]
     },
     "metadata": {},
     "output_type": "display_data"
    },
    {
     "data": {
      "image/png": "[encoded data removed]",
      "text/plain": [
       "<Figure size 432x288 with 1 Axes>"
      ]
     },
     "metadata": {},
     "output_type": "display_data"
    }
   ],
   "source": [
    "#Ex2\n",
    "import numpy as np\n",
    "import matplotlib.pyplot as plt\n",
    "\n",
    "y = []\n",
    "\n",
    "for i in range(1000):\n",
    "    x = np.random.random(1000)\n",
    "    y += [np.sum(x)]\n",
    "\n",
    "a = np.arange(1000)\n",
    "\n",
    "plt.plot (a,y)\n",
    "plt.show()\n",
    "plt.hist(y)\n",
    "plt.show()"
   ]
  },
  {
   "cell_type": "code",
   "execution_count": null,
   "metadata": {},
   "outputs": [],
   "source": [
    "#Ex3\n",
    "import pandas as pd\n",
    "import matplotlib.pyplot as plt\n",
    "import numpy as np\n",
    "\n",
    "y=[]\n",
    "dai = pd.read_csv('train.csv')\n",
    "img = dai.as_matrix()\n",
    "a=np.zeros((10,784))\n",
    "a[0] = img[1,1:]\n",
    "a[1] = img[0,1:]\n",
    "a[2] = img[16,1:]\n",
    "a[3] = img[7,1:]\n",
    "a[4] = img[3,1:]\n",
    "a[5] = img[8,1:]\n",
    "a[6] = img[21,1:]\n",
    "a[7] = img[6,1:]\n",
    "a[8] = img[10,1:]\n",
    "a[9] = img[11,1:]\n",
    "for i in range(10):\n",
    "    y += [np.mean(a[i])]\n",
    "\n",
    "print(y)"
   ]
  },
  {
   "cell_type": "code",
   "execution_count": null,
   "metadata": {},
   "outputs": [],
   "source": [
    "#Ex4\n",
    "import pandas as pd\n",
    "import numpy as np\n",
    "import matplotlib.pyplot as plt\n",
    "\n",
    "dai = pd.read_csv('train.csv')\n",
    "img = dai.as_matrix()\n",
    "img1 = img[0,1:]\n",
    "img1 = img1.reshape(28,28)\n",
    "flip_img1 = np.zeros((28,28))\n",
    "for i in range (28):\n",
    "    for j in range(28):\n",
    "        flip_img1[j][-i-1] = img1[i][j]\n",
    "\n",
    "flip_np_img1 = np.rot90(img1,3)\n",
    "\n",
    "plt.imshow(flip_np_img1)\n",
    "plt.show()\n",
    "plt.imshow(flip_img1)\n",
    "plt.show()"
   ]
  },
  {
   "cell_type": "code",
   "execution_count": null,
   "metadata": {},
   "outputs": [],
   "source": [
    "#Ex5\n",
    "import numpy as np\n",
    "\n",
    "\n",
    "def is_symmetric_manual(matrix):\n",
    "    if len(matrix) == 0:\n",
    "        return False\n",
    "    if len(matrix[0,:]) == len(matrix[:,0]):\n",
    "        for i in range(len(matrix[0,:])):\n",
    "            for j in range(i,len(matrix[:,0])):\n",
    "                if matrix[i][j] != matrix[j][i]:\n",
    "                    return False\n",
    "    return True\n",
    "\n",
    "def is_symmetric_numpy(matrix):\n",
    "    if len(matrix) == 0:\n",
    "        return False\n",
    "    else:\n",
    "        return np.allclose(matrix, matrix.T)\n",
    "\n",
    "def test_True_symmetric():\n",
    "    a = np.array([[2, 3, 1], [3, 6, 4], [1, 4, 7]])\n",
    "    b = np.array([[1, 4, 6, 8], [4, 3, 7, 9], [6, 7, 2, 0], [8, 9, 0, 5]])\n",
    "    a1 = is_symmetric_numpy(a)\n",
    "    a2 = is_symmetric_manual(a)\n",
    "    b1 = is_symmetric_numpy(b)\n",
    "    b2 = is_symmetric_numpy(b)\n",
    "    assert (a1 == True and a2 == True and b1 == True and b2 == True)\n",
    "    return True\n",
    "\n",
    "def test_False_symmetric():\n",
    "    d = np.array([[1, 2, 3], [4, 5, 6], [7, 8, 9]])\n",
    "    d1 = is_symmetric_numpy(d)\n",
    "    d2 = is_symmetric_numpy(d)\n",
    "    assert (d1 == False and d2 == False)\n",
    "    return True\n",
    "\n",
    "def test_empty_matrix():\n",
    "    e = np.array([])\n",
    "    e1 = is_symmetric_numpy(e)\n",
    "    e2 = is_symmetric_manual(e)\n",
    "    assert (e1 == False and e2 == False)\n",
    "    return True\n",
    "\n",
    "print(test_empty_matrix())\n",
    "print(test_False_symmetric())\n",
    "print(test_True_symmetric())"
   ]
  },
  {
   "cell_type": "code",
   "execution_count": null,
   "metadata": {},
   "outputs": [],
   "source": [
    "#Ex6\n",
    "import matplotlib.pyplot as plt\n",
    "import numpy as np\n",
    "\n",
    "x = np.random.uniform(low=-1.0, high=1.0, size=1000)\n",
    "y = np.random.uniform(low=-1.0, high=1.0, size=1000)\n",
    "ax =[]\n",
    "ay =[]\n",
    "bx =[]\n",
    "by =[]\n",
    "\n",
    "for i in range(len(x)):\n",
    "    if ((x[i] >=0) and (y[i] >=0)) or ((x[i] <0) and (y[i] <0)):\n",
    "        ax += [x[i]]\n",
    "        ay += [y[i]]\n",
    "    if ((x[i] >=0) and (y[i] <0)) or ((x[i] <0) and (y[i] >=0)):\n",
    "        bx += [x[i]]\n",
    "        by += [y[i]]\n",
    "\n",
    "plt.scatter(ax,ay)\n",
    "plt.scatter(bx,by)\n",
    "plt.show()"
   ]
  },
  {
   "cell_type": "code",
   "execution_count": null,
   "metadata": {},
   "outputs": [],
   "source": [
    "#Ex7\n",
    "import matplotlib.pyplot as plt\n",
    "import numpy as np\n",
    "\n",
    "a = np.random.randn(10000,2)\n",
    "a[0:5000,1] = np.sqrt(2-a[0:5000,0]**2)\n",
    "a[5001:10000,1] = np.sqrt(2-a[5001:10000,0]**2) * -1\n",
    "a = a * 15\n",
    "\n",
    "b = np.random.randn(10000,2)\n",
    "b[0:5000,1] = np.sqrt(2-b[0:5000,0]**2)\n",
    "b[5001:10000,1] = np.sqrt(2-b[5001:10000,0]**2) * -1\n",
    "b = b * 7.5\n",
    "\n",
    "\n",
    "plt.scatter(a[:,0],a[:,1])\n",
    "plt.scatter(b[:,0],b[:,1])\n",
    "plt.show()"
   ]
  },
  {
   "cell_type": "code",
   "execution_count": null,
   "metadata": {},
   "outputs": [],
   "source": [
    "#Ex9\n",
    "import numpy as np\n",
    "import pandas as pd\n",
    "\n",
    "a = np.random.rand(1000,2)\n",
    "b =[]\n",
    "for i in range(len(a[:,0])):\n",
    "    if a[i,0] + a[i,1] > 1:\n",
    "        b += [1]\n",
    "    elif a[i,0] + a[i,1] <= 1:\n",
    "        b += [0]\n",
    "\n",
    "dai = pd.DataFrame({'x1': a[:,0], 'x2': a[:,1], 'y': b})\n",
    "dai.to_csv('ex9data.csv')\n"
   ]
  }
 ],
 "metadata": {
  "kernelspec": {
   "display_name": "Python 3",
   "language": "python",
   "name": "python3"
  },
  "language_info": {
   "codemirror_mode": {
    "name": "ipython",
    "version": 3
   },
   "file_extension": ".py",
   "mimetype": "text/x-python",
   "name": "python",
   "nbconvert_exporter": "python",
   "pygments_lexer": "ipython3",
   "version": "3.6.4"
  }
 },
 "nbformat": 4,
 "nbformat_minor": 2
}
