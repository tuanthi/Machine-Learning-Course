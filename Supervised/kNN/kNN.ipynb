{
 "cells": [
  {
   "cell_type": "code",
   "execution_count": 3,
   "metadata": {},
   "outputs": [],
   "source": [
    "import numpy as np\n",
    "from datetime import datetime\n",
    "from utils import get_data\n",
    "from kNN import KNN"
   ]
  },
  {
   "cell_type": "code",
   "execution_count": 4,
   "metadata": {},
   "outputs": [
    {
     "name": "stdout",
     "output_type": "stream",
     "text": [
      "Processing data\n",
      "Training time: 0:00:00.000040\n",
      "Train accuracy: 1.0\n",
      "Train calculation time: 0:01:18.013040\n",
      "Train size: 1000\n",
      "Test accuracy: 0.897\n",
      "Test calculation time: 0:01:31.752775\n",
      "Test size: 1000\n",
      "Training time: 0:00:00.000023\n",
      "Train accuracy: 0.936\n",
      "Train calculation time: 0:01:02.903542\n",
      "Train size: 1000\n",
      "Test accuracy: 0.867\n",
      "Test calculation time: 0:01:14.542990\n",
      "Test size: 1000\n",
      "Training time: 0:00:00.000008\n",
      "Train accuracy: 0.946\n",
      "Train calculation time: 0:00:58.381119\n",
      "Train size: 1000\n",
      "Test accuracy: 0.885\n",
      "Test calculation time: 0:01:15.372880\n",
      "Test size: 1000\n",
      "Training time: 0:00:00.000014\n",
      "Train accuracy: 0.918\n",
      "Train calculation time: 0:00:57.609942\n",
      "Train size: 1000\n",
      "Test accuracy: 0.871\n",
      "Test calculation time: 0:01:26.518136\n",
      "Test size: 1000\n",
      "Training time: 0:00:00.000008\n",
      "Train accuracy: 0.918\n",
      "Train calculation time: 0:01:18.000589\n",
      "Train size: 1000\n",
      "Test accuracy: 0.88\n",
      "Test calculation time: 0:01:31.780546\n",
      "Test size: 1000\n"
     ]
    }
   ],
   "source": [
    "X, Y = get_data(2000)\n",
    "Ntrain = 1000\n",
    "Xtrain, Ytrain = X[:Ntrain], Y[:Ntrain]\n",
    "Xtest, Ytest = X[Ntrain:], Y[Ntrain:]\n",
    "for k in (1,2,3,4,5):\n",
    "    knn = KNN(k)\n",
    "    t0 = datetime.now()\n",
    "    knn.fit(Xtrain, Ytrain)\n",
    "    print('Training time:', datetime.now() - t0)\n",
    "        \n",
    "    t0 = datetime.now()\n",
    "    print('Train accuracy:', knn.score(Xtrain, Ytrain))\n",
    "    print('Train calculation time:', datetime.now() - t0)\n",
    "    print('Train size:', len(Ytrain))\n",
    "        \n",
    "    t0 = datetime.now()\n",
    "    print('Test accuracy:', knn.score(Xtest, Ytest))\n",
    "    print('Test calculation time:', datetime.now() - t0)\n",
    "    print('Test size:', len(Ytest))"
   ]
  },
  {
   "cell_type": "code",
   "execution_count": null,
   "metadata": {},
   "outputs": [],
   "source": []
  }
 ],
 "metadata": {
  "kernelspec": {
   "display_name": "Python 3",
   "language": "python",
   "name": "python3"
  },
  "language_info": {
   "codemirror_mode": {
    "name": "ipython",
    "version": 3
   },
   "file_extension": ".py",
   "mimetype": "text/x-python",
   "name": "python",
   "nbconvert_exporter": "python",
   "pygments_lexer": "ipython3",
   "version": "3.5.2"
  }
 },
 "nbformat": 4,
 "nbformat_minor": 2
}
