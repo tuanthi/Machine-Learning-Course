{
 "cells": [
  {
   "cell_type": "code",
   "execution_count": 1,
   "metadata": {},
   "outputs": [],
   "source": [
    "import numpy as np\n",
    "import matplotlib.pyplot as plt\n",
    "from sklearn.utils import shuffle\n",
    "from process_data import get_binary_data"
   ]
  },
  {
   "cell_type": "code",
   "execution_count": 2,
   "metadata": {},
   "outputs": [],
   "source": [
    "X, Y = get_binary_data()\n",
    "X, Y = shuffle(X, Y)\n",
    "Xtrain, Ytrain = X[:-100], Y[:-100]\n",
    "Xtest, Ytest = X[-100:], Y[-100:]\n",
    "\n",
    "D = X.shape[1]\n",
    "w = np.random.randn(D)\n",
    "b = 0"
   ]
  },
  {
   "cell_type": "code",
   "execution_count": 3,
   "metadata": {},
   "outputs": [],
   "source": [
    "def sigmoid(a):\n",
    "    return 1/(1 + np.exp(-a))\n",
    "\n",
    "def forward(X, w, b):\n",
    "    return sigmoid(X.dot(w) + b)\n",
    "\n",
    "def classification_rate(Y, P):\n",
    "    return np.mean(Y == P)\n",
    "\n",
    "def cross_entropy(T, pY):\n",
    "    return -np.mean(T*np.log(pY) + (1 - T)*np.log(1 - pY))"
   ]
  },
  {
   "cell_type": "code",
   "execution_count": 4,
   "metadata": {},
   "outputs": [
    {
     "name": "stdout",
     "output_type": "stream",
     "text": [
      "0 0.8531874610615093 0.7333539306640935\n",
      "1000 0.20048490371244396 0.13944641300070054\n",
      "2000 0.19949362271240811 0.1361258397238271\n",
      "3000 0.19943220902035866 0.13546666696995704\n",
      "4000 0.1994275918942271 0.13529650231676982\n",
      "5000 0.19942722803742258 0.1352495341899166\n",
      "6000 0.19942719899247316 0.13523632745755335\n",
      "7000 0.19942719666558412 0.13523259445364944\n",
      "8000 0.19942719647897897 0.13523153772232793\n",
      "9000 0.19942719646401022 0.13523123845926188\n",
      "Train classification rate: 0.9664429530201343\n",
      "Test classification rate: 0.98\n"
     ]
    }
   ],
   "source": [
    "train_cost = []\n",
    "test_cost = []\n",
    "learning_rate = 0.001\n",
    "for i in range(10000):\n",
    "    pYtrain = forward(Xtrain, w, b)\n",
    "    pYtest = forward(Xtest, w, b)\n",
    "    ctrain = cross_entropy(Ytrain, pYtrain)\n",
    "    ctest = cross_entropy(Ytest, pYtest)\n",
    "    train_cost.append(ctrain)\n",
    "    test_cost.append(ctest)\n",
    "    \n",
    "    w -= learning_rate * Xtrain.T.dot(pYtrain - Ytrain)\n",
    "    b -= learning_rate * (pYtrain - Ytrain).sum()\n",
    "    if i % 1000 == 0:\n",
    "        print(i, ctrain, ctest)\n",
    "        \n",
    "print('Train classification rate:', classification_rate(Ytrain, np.round(pYtrain)))\n",
    "print('Test classification rate:', classification_rate(Ytest, np.round(pYtest)))"
   ]
  },
  {
   "cell_type": "code",
   "execution_count": 5,
   "metadata": {},
   "outputs": [
    {
     "data": {
      "image/png": "[encoded data removed]",
      "text/plain": [
       "<matplotlib.figure.Figure at 0x7fdc7bb7cdd8>"
      ]
     },
     "metadata": {},
     "output_type": "display_data"
    }
   ],
   "source": [
    "legend1, = plt.plot(train_cost, label='train cost')\n",
    "legend2, = plt.plot(test_cost, label='test cost')\n",
    "plt.legend([legend1, legend2])\n",
    "plt.show()"
   ]
  }
 ],
 "metadata": {
  "kernelspec": {
   "display_name": "Python 3",
   "language": "python",
   "name": "python3"
  },
  "language_info": {
   "codemirror_mode": {
    "name": "ipython",
    "version": 3
   },
   "file_extension": ".py",
   "mimetype": "text/x-python",
   "name": "python",
   "nbconvert_exporter": "python",
   "pygments_lexer": "ipython3",
   "version": "3.5.2"
  }
 },
 "nbformat": 4,
 "nbformat_minor": 2
}
