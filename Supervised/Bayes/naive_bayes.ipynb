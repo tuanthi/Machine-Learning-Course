{
 "cells": [
  {
   "cell_type": "code",
   "execution_count": 1,
   "metadata": {},
   "outputs": [],
   "source": [
    "from datetime import datetime\n",
    "from utils import get_data\n",
    "from naive_bayes import NaiveBayes"
   ]
  },
  {
   "cell_type": "code",
   "execution_count": 2,
   "metadata": {},
   "outputs": [
    {
     "name": "stdout",
     "output_type": "stream",
     "text": [
      "Processing data\n",
      "Training time: 0:00:00.957634\n",
      "Train accuracy: 0.9932\n",
      "Train accuracy calculate time: 0:00:10.876114\n",
      "Train size: 7500\n",
      "Test accuracy: 0.9492\n",
      "Test accuracy calculate time: 0:00:15.544167\n",
      "Test size: 2500\n"
     ]
    }
   ],
   "source": [
    "X, Y = get_data(10000)\n",
    "Ntrain = 3*int(len(Y) / 4)\n",
    "Xtrain, Ytrain = X[:Ntrain], Y[:Ntrain]\n",
    "Xtest, Ytest = X[Ntrain:], Y[Ntrain:]\n",
    "    \n",
    "model = NaiveBayes()\n",
    "t0 = datetime.now()\n",
    "model.fit(Xtrain, Ytrain)\n",
    "print('Training time:', datetime.now() - t0)\n",
    "    \n",
    "t0 = datetime.now()\n",
    "print('Train accuracy:', model.score(Xtrain, Ytrain))\n",
    "print('Train accuracy calculate time:', datetime.now() - t0)\n",
    "print('Train size:', len(Ytrain))\n",
    "    \n",
    "t0 = datetime.now()\n",
    "print('Test accuracy:', model.score(Xtest, Ytest))\n",
    "print('Test accuracy calculate time:', datetime.now() - t0)\n",
    "print('Test size:', len(Ytest))"
   ]
  },
  {
   "cell_type": "code",
   "execution_count": null,
   "metadata": {},
   "outputs": [],
   "source": []
  }
 ],
 "metadata": {
  "kernelspec": {
   "display_name": "Python 3",
   "language": "python",
   "name": "python3"
  },
  "language_info": {
   "codemirror_mode": {
    "name": "ipython",
    "version": 3
   },
   "file_extension": ".py",
   "mimetype": "text/x-python",
   "name": "python",
   "nbconvert_exporter": "python",
   "pygments_lexer": "ipython3",
   "version": "3.5.2"
  }
 },
 "nbformat": 4,
 "nbformat_minor": 2
}
